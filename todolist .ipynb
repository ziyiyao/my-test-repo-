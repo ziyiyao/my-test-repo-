{
 "cells": [
  {
   "cell_type": "markdown",
   "metadata": {},
   "source": [
    "# Write a program for the users to add a todo list "
   ]
  },
  {
   "cell_type": "code",
   "execution_count": null,
   "metadata": {},
   "outputs": [],
   "source": [
    "#ask the user for a task, add it to the list, print the list out\n",
    "#initialise the loop variable \n",
    "\n",
    "task = \"\"\n",
    "#this is an empty string, it is not an x, so the loop will execute at least once \n",
    "\n",
    "todolist = []\n",
    "\n",
    "while(task != \"x\"):\n",
    "    task = input(\"Enter a task, press (x) to exit\"). lower()\n",
    "    if task != \"x\":\n",
    "        todolist.append(task)\n",
    "        #this adds a new task to the end of the list\n",
    "    \n",
    "    print(todolist)\n",
    "    \n",
    "print(\"You are done, here is your final list\")\n"
   ]
  },
  {
   "cell_type": "code",
   "execution_count": null,
   "metadata": {},
   "outputs": [],
   "source": []
  }
 ],
 "metadata": {
  "kernelspec": {
   "display_name": "Python 3",
   "language": "python",
   "name": "python3"
  },
  "language_info": {
   "codemirror_mode": {
    "name": "ipython",
    "version": 3
   },
   "file_extension": ".py",
   "mimetype": "text/x-python",
   "name": "python",
   "nbconvert_exporter": "python",
   "pygments_lexer": "ipython3",
   "version": "3.5.2"
  }
 },
 "nbformat": 4,
 "nbformat_minor": 2
}
